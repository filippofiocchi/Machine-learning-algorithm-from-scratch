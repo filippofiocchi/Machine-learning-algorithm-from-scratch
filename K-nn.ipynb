{
 "metadata": {
  "language_info": {
   "codemirror_mode": {
    "name": "ipython",
    "version": 3
   },
   "file_extension": ".py",
   "mimetype": "text/x-python",
   "name": "python",
   "nbconvert_exporter": "python",
   "pygments_lexer": "ipython3",
   "version": "3.6.4-final"
  },
  "orig_nbformat": 2,
  "kernelspec": {
   "name": "Python 3.6.4 64-bit",
   "display_name": "Python 3.6.4 64-bit",
   "metadata": {
    "interpreter": {
     "hash": "7ceae6045a4cc755de427e509ede4c0fb5d10ce6e185e433292c41c4ae8b1e08"
    }
   }
  }
 },
 "nbformat": 4,
 "nbformat_minor": 2,
 "cells": [
  {
   "cell_type": "code",
   "execution_count": 2,
   "metadata": {},
   "outputs": [],
   "source": [
    "from sklearn import datasets\n",
    "import numpy as np\n",
    "from sklearn.model_selection import train_test_split \n",
    "from collections import Counter\n"
   ]
  },
  {
   "cell_type": "code",
   "execution_count": 22,
   "metadata": {},
   "outputs": [
    {
     "output_type": "stream",
     "name": "stdout",
     "text": [
      "(120, 4)\n(30, 4)\n"
     ]
    }
   ],
   "source": [
    "iris = datasets.load_iris()\n",
    "x = iris.data\n",
    "y = iris.target\n",
    "x_train, x_test, y_train, y_test = train_test_split(x,y, test_size = 0.2, random_state = 1234)\n",
    "print(x_train.shape)\n",
    "print(x_test.shape)\n"
   ]
  },
  {
   "cell_type": "code",
   "execution_count": 30,
   "metadata": {},
   "outputs": [],
   "source": [
    "#build our class\n",
    "class knn:\n",
    "    def __init__(self, k=3,Euclidian = 1):\n",
    "        self.k = k\n",
    "        self.Euclidian = Euclidian\n",
    "    \n",
    "    def distance(self,x1,x2):\n",
    "        if self.Euclidian:\n",
    "            d = np.sqrt(np.sum((x1-x2)**2))\n",
    "        else :\n",
    "            d = np.sum(abs(x1-x2))\n",
    "        return d\n",
    "    def fit(self,x,y):\n",
    "        self.x_train = x\n",
    "        self.y_train = y\n",
    "    \n",
    "    def prediction(self,x):\n",
    "        distances = [self.distance(x,x1) for x1 in self.x_train]\n",
    "        best_k_indeces = np.argsort(distances)[0:self.k] #here we sort the indeces of the x corresponding to the min distances\n",
    "        best_k_labels = [self.y_train[i] for i in best_k_indeces]\n",
    "        predicted_label = Counter(best_k_labels).most_common(1)\n",
    "        return predicted_label[0][0]\n",
    "    def predicted_labels(self,X):\n",
    "        labels = [self.prediction(x) for x in X]\n",
    "        return np.array(labels)\n",
    "    "
   ]
  },
  {
   "cell_type": "code",
   "execution_count": 31,
   "metadata": {},
   "outputs": [
    {
     "output_type": "stream",
     "name": "stdout",
     "text": [
      "0.9666666666666667\n"
     ]
    }
   ],
   "source": [
    "classifier = knn(k=5, Euclidian = False)\n",
    "classifier.fit(x_train,y_train)\n",
    "prediction = classifier.predicted_labels(x_test)\n",
    "acc = np.sum(prediction==y_test)\n",
    "print(acc/len(y_test))"
   ]
  },
  {
   "cell_type": "code",
   "execution_count": null,
   "metadata": {},
   "outputs": [],
   "source": [
    "acc "
   ]
  }
 ]
}